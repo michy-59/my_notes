{
 "cells": [
  {
   "cell_type": "code",
   "execution_count": null,
   "id": "f8376967-726f-416f-bfb8-98b2d6036a46",
   "metadata": {},
   "outputs": [],
   "source": [
    "import numpy as np\n",
    "import pandas as pd\n",
    "import re"
   ]
  },
  {
   "cell_type": "code",
   "execution_count": null,
   "id": "7f9783bd-ca06-4ea6-a044-90c8797602da",
   "metadata": {},
   "outputs": [],
   "source": [
    "df = pd.read_csv('千葉県の難読地名クイズ.csv')"
   ]
  },
  {
   "cell_type": "code",
   "execution_count": null,
   "id": "5d6547c7-10b6-434d-b221-4878b4c0e033",
   "metadata": {},
   "outputs": [],
   "source": [
    "tmp = df.sample(1)\n",
    "problem = list(tmp['problem'])[0]\n",
    "answer = list(tmp['answer'])[0]\n",
    "print(problem)\n",
    "your = input()\n",
    "if your == answer:\n",
    "    print('Excellent')\n",
    "else:\n",
    "    print(f'Next Challenge : {answer}')"
   ]
  },
  {
   "cell_type": "code",
   "execution_count": null,
   "id": "60d7165d-9fd4-4e4e-b103-8c9f931f5a94",
   "metadata": {},
   "outputs": [],
   "source": []
  }
 ],
 "metadata": {
  "kernelspec": {
   "display_name": "Python 3 (ipykernel)",
   "language": "python",
   "name": "python3"
  },
  "language_info": {
   "codemirror_mode": {
    "name": "ipython",
    "version": 3
   },
   "file_extension": ".py",
   "mimetype": "text/x-python",
   "name": "python",
   "nbconvert_exporter": "python",
   "pygments_lexer": "ipython3",
   "version": "3.11.5"
  }
 },
 "nbformat": 4,
 "nbformat_minor": 5
}
